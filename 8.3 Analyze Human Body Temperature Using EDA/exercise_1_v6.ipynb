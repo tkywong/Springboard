{
 "cells": [
  {
   "cell_type": "markdown",
   "metadata": {},
   "source": [
    "# What is the True Normal Human Body Temperature? \n",
    "\n",
    "#### Background\n",
    "\n",
    "The mean normal body temperature was held to be 37$^{\\circ}$C or 98.6$^{\\circ}$F for more than 120 years since it was first conceptualized and reported by Carl Wunderlich in a famous 1868 book. But, is this value statistically correct?"
   ]
  },
  {
   "cell_type": "markdown",
   "metadata": {},
   "source": [
    "<h3>Exercises</h3>\n",
    "\n",
    "<p>In this exercise, you will analyze a dataset of human body temperatures and employ the concepts of hypothesis testing, confidence intervals, and statistical significance.</p>\n",
    "\n",
    "<p>Answer the following questions <b>in this notebook below and submit to your Github account</b>.</p> \n",
    "\n",
    "<ol>\n",
    "<li>  Is the distribution of body temperatures normal? \n",
    "    <ul>\n",
    "    <li> Although this is not a requirement for the Central Limit Theorem to hold (read the introduction on Wikipedia's page about the CLT carefully: https://en.wikipedia.org/wiki/Central_limit_theorem), it gives us some peace of mind that the population may also be normally distributed if we assume that this sample is representative of the population.\n",
    "    <li> Think about the way you're going to check for the normality of the distribution. Graphical methods are usually used first, but there are also other ways: https://en.wikipedia.org/wiki/Normality_test\n",
    "    </ul>\n",
    "<li>  Is the sample size large? Are the observations independent?\n",
    "    <ul>\n",
    "    <li> Remember that this is a condition for the Central Limit Theorem, and hence the statistical tests we are using, to apply.\n",
    "    </ul>\n",
    "<li>  Is the true population mean really 98.6 degrees F?\n",
    "    <ul>\n",
    "    <li> First, try a bootstrap hypothesis test.\n",
    "    <li> Now, let's try frequentist statistical testing. Would you use a one-sample or two-sample test? Why?\n",
    "    <li> In this situation, is it appropriate to use the $t$ or $z$ statistic? \n",
    "    <li> Now try using the other test. How is the result be different? Why?\n",
    "    </ul>\n",
    "<li>  Draw a small sample of size 10 from the data and repeat both frequentist tests. \n",
    "    <ul>\n",
    "    <li> Which one is the correct one to use? \n",
    "    <li> What do you notice? What does this tell you about the difference in application of the $t$ and $z$ statistic?\n",
    "    </ul>\n",
    "<li>  At what temperature should we consider someone's temperature to be \"abnormal\"?\n",
    "    <ul>\n",
    "    <li> As in the previous example, try calculating everything using the boostrap approach, as well as the frequentist approach.\n",
    "    <li> Start by computing the margin of error and confidence interval. When calculating the confidence interval, keep in mind that you should use the appropriate formula for one draw, and not N draws.\n",
    "    </ul>\n",
    "<li>  Is there a significant difference between males and females in normal temperature?\n",
    "    <ul>\n",
    "    <li> What testing approach did you use and why?\n",
    "    <li> Write a story with your conclusion in the context of the original problem.\n",
    "    </ul>\n",
    "</ol>\n",
    "\n",
    "You can include written notes in notebook cells using Markdown: \n",
    "   - In the control panel at the top, choose Cell > Cell Type > Markdown\n",
    "   - Markdown syntax: http://nestacms.com/docs/creating-content/markdown-cheat-sheet\n",
    "\n",
    "#### Resources\n",
    "\n",
    "+ Information and data sources: http://www.amstat.org/publications/jse/datasets/normtemp.txt, http://www.amstat.org/publications/jse/jse_data_archive.htm\n",
    "+ Markdown syntax: http://nestacms.com/docs/creating-content/markdown-cheat-sheet\n",
    "\n",
    "****"
   ]
  },
  {
   "cell_type": "code",
   "execution_count": 2,
   "metadata": {},
   "outputs": [
    {
     "data": {
      "text/html": [
       "<div>\n",
       "<style scoped>\n",
       "    .dataframe tbody tr th:only-of-type {\n",
       "        vertical-align: middle;\n",
       "    }\n",
       "\n",
       "    .dataframe tbody tr th {\n",
       "        vertical-align: top;\n",
       "    }\n",
       "\n",
       "    .dataframe thead th {\n",
       "        text-align: right;\n",
       "    }\n",
       "</style>\n",
       "<table border=\"1\" class=\"dataframe\">\n",
       "  <thead>\n",
       "    <tr style=\"text-align: right;\">\n",
       "      <th></th>\n",
       "      <th>temperature</th>\n",
       "      <th>gender</th>\n",
       "      <th>heart_rate</th>\n",
       "    </tr>\n",
       "  </thead>\n",
       "  <tbody>\n",
       "    <tr>\n",
       "      <th>0</th>\n",
       "      <td>99.3</td>\n",
       "      <td>F</td>\n",
       "      <td>68.0</td>\n",
       "    </tr>\n",
       "    <tr>\n",
       "      <th>1</th>\n",
       "      <td>98.4</td>\n",
       "      <td>F</td>\n",
       "      <td>81.0</td>\n",
       "    </tr>\n",
       "    <tr>\n",
       "      <th>2</th>\n",
       "      <td>97.8</td>\n",
       "      <td>M</td>\n",
       "      <td>73.0</td>\n",
       "    </tr>\n",
       "    <tr>\n",
       "      <th>3</th>\n",
       "      <td>99.2</td>\n",
       "      <td>F</td>\n",
       "      <td>66.0</td>\n",
       "    </tr>\n",
       "    <tr>\n",
       "      <th>4</th>\n",
       "      <td>98.0</td>\n",
       "      <td>F</td>\n",
       "      <td>73.0</td>\n",
       "    </tr>\n",
       "  </tbody>\n",
       "</table>\n",
       "</div>"
      ],
      "text/plain": [
       "   temperature gender  heart_rate\n",
       "0         99.3      F        68.0\n",
       "1         98.4      F        81.0\n",
       "2         97.8      M        73.0\n",
       "3         99.2      F        66.0\n",
       "4         98.0      F        73.0"
      ]
     },
     "execution_count": 2,
     "metadata": {},
     "output_type": "execute_result"
    }
   ],
   "source": [
    "import pandas as pd\n",
    "import matplotlib.pyplot as plt\n",
    "import numpy as np\n",
    "import statsmodels.api as sm\n",
    "import scipy.stats as st\n",
    "\n",
    "df = pd.read_csv('data/human_body_temperature.csv')\n",
    "df.head()"
   ]
  },
  {
   "cell_type": "markdown",
   "metadata": {},
   "source": [
    "### 1. Is the distribution of body temperatures normal?\n",
    "**Answer:** \n",
    "\n",
    "Yes the distribution can be assumed normal due to the following observations --- \n",
    "\n",
    "\n",
    "(a) Visually it \"looks\" kind of normal.\n",
    "\n",
    "(b) The mean (98.249) very close to the median (98.3). Mode is 98.0.\n",
    "\n",
    "(c) Kurtossis = 0.648, which is slight greater than 0.\n",
    "\n",
    "(d) Skewness = -0.00431, which is close to 0.\n",
    "\n",
    "(e) Based on ECDF plot, the data looks symmetrical.\n",
    "\n",
    "(f) Using a Q-Q Plot, the distribution follows roughly a straight 45d line. "
   ]
  },
  {
   "cell_type": "markdown",
   "metadata": {},
   "source": [
    "(a)"
   ]
  },
  {
   "cell_type": "code",
   "execution_count": 3,
   "metadata": {},
   "outputs": [
    {
     "data": {
      "image/png": "[encoded data removed]",
      "text/plain": [
       "<Figure size 432x288 with 1 Axes>"
      ]
     },
     "metadata": {},
     "output_type": "display_data"
    }
   ],
   "source": [
    "# Plot all temperature data\n",
    "plt.hist(df.temperature,bins=15,color='black',alpha=0.5)\n",
    "plt.show()"
   ]
  },
  {
   "cell_type": "code",
   "execution_count": 4,
   "metadata": {},
   "outputs": [
    {
     "data": {
      "image/png": "[encoded data removed]",
      "text/plain": [
       "<Figure size 432x288 with 2 Axes>"
      ]
     },
     "metadata": {},
     "output_type": "display_data"
    }
   ],
   "source": [
    "# Plot all temperature data based on male vs female\n",
    "plt.clf()\n",
    "plt.subplot(1,2,1)\n",
    "plt.hist(df.temperature[df.gender=='M'],bins=15,color='blue')\n",
    "plt.xlim(96,101)\n",
    "plt.ylim(0,15)\n",
    "plt.title('male')\n",
    "plt.xlabel('temperature')\n",
    "plt.ylabel('frequency')\n",
    "\n",
    "plt.subplot(1,2,2)\n",
    "plt.hist(df.temperature[df.gender=='F'],bins=15,color='red')\n",
    "plt.xlim(96,101)\n",
    "plt.ylim(0,15)\n",
    "plt.title('female')\n",
    "plt.xlabel('temperature')\n",
    "\n",
    "plt.show()"
   ]
  },
  {
   "cell_type": "markdown",
   "metadata": {},
   "source": [
    "(b)"
   ]
  },
  {
   "cell_type": "code",
   "execution_count": 5,
   "metadata": {},
   "outputs": [
    {
     "name": "stdout",
     "output_type": "stream",
     "text": [
      "The mean of the data is 98.24923076923078\n"
     ]
    }
   ],
   "source": [
    "t_mean = df.temperature.mean()\n",
    "print(f'The mean of the data is {t_mean}')"
   ]
  },
  {
   "cell_type": "code",
   "execution_count": 6,
   "metadata": {},
   "outputs": [
    {
     "name": "stdout",
     "output_type": "stream",
     "text": [
      "The median of the data is 98.3\n"
     ]
    }
   ],
   "source": [
    "t_median = df.temperature.median()\n",
    "print(f'The median of the data is {t_median}')"
   ]
  },
  {
   "cell_type": "code",
   "execution_count": 7,
   "metadata": {},
   "outputs": [
    {
     "name": "stdout",
     "output_type": "stream",
     "text": [
      "The mode of the data is 98.0\n"
     ]
    }
   ],
   "source": [
    "t_mode = df.temperature.mode()\n",
    "print(f'The mode of the data is {t_mode[0]}')"
   ]
  },
  {
   "cell_type": "code",
   "execution_count": 8,
   "metadata": {},
   "outputs": [
    {
     "name": "stdout",
     "output_type": "stream",
     "text": [
      "The standard deviation of the data is 0.7331831580389454\n"
     ]
    }
   ],
   "source": [
    "t_std = df.temperature.std()\n",
    "print(f'The standard deviation of the data is {t_std}')"
   ]
  },
  {
   "cell_type": "markdown",
   "metadata": {},
   "source": [
    "(c)"
   ]
  },
  {
   "cell_type": "code",
   "execution_count": 9,
   "metadata": {},
   "outputs": [
    {
     "name": "stdout",
     "output_type": "stream",
     "text": [
      "The kurtosis of the data is 0.6481796324871225\n"
     ]
    }
   ],
   "source": [
    "kurt = (sum((df.temperature - t_mean)**4)/t_std**4 / (len(df.temperature)))-3\n",
    "print(f'The kurtosis of the data is {kurt}')"
   ]
  },
  {
   "cell_type": "markdown",
   "metadata": {},
   "source": [
    "(d)"
   ]
  },
  {
   "cell_type": "code",
   "execution_count": 10,
   "metadata": {},
   "outputs": [
    {
     "name": "stdout",
     "output_type": "stream",
     "text": [
      "The skewness of the data is -0.004317674193160269\n"
     ]
    }
   ],
   "source": [
    "skew = sum((df.temperature - t_mean)**3/t_std**3) / len(df.temperature)\n",
    "print(f'The skewness of the data is {skew}')"
   ]
  },
  {
   "cell_type": "markdown",
   "metadata": {},
   "source": [
    "(e) Create ECDF Plot and determine whether the mean is at about 0.5"
   ]
  },
  {
   "cell_type": "code",
   "execution_count": 11,
   "metadata": {},
   "outputs": [
    {
     "data": {
      "image/png": "[encoded data removed]",
      "text/plain": [
       "<Figure size 432x288 with 1 Axes>"
      ]
     },
     "metadata": {},
     "output_type": "display_data"
    }
   ],
   "source": [
    "def ecdf(data):\n",
    "    \"\"\"Compute ECDF for a one-dimensional array of measurements.\"\"\"\n",
    "    # Number of data points: n\n",
    "    n = len(data)\n",
    "\n",
    "    # x-data for the ECDF: x\n",
    "    x = np.sort(data)\n",
    "\n",
    "    # y-data for the ECDF: y\n",
    "    y = np.arange(1, n+1)/n\n",
    "\n",
    "    return x, y\n",
    "\n",
    "# Compute ECDF for versicolor data: x_vers, y_vers\n",
    "x_vers, y_vers = ecdf(df.temperature)\n",
    "\n",
    "# Generate plot\n",
    "plt.plot(x_vers,y_vers,marker='.',linestyle='none')\n",
    "plt.plot([t_mean,t_mean],[0,1])\n",
    "plt.plot([96,101],[0.5,0.5])\n",
    "\n",
    "# Label the axes\n",
    "plt.xlabel('temperature')\n",
    "plt.ylabel('ECDF')\n",
    "\n",
    "# Display the plot\n",
    "plt.show()"
   ]
  },
  {
   "cell_type": "markdown",
   "metadata": {},
   "source": [
    "(f) Examine using Q-Q Plot"
   ]
  },
  {
   "cell_type": "code",
   "execution_count": 12,
   "metadata": {},
   "outputs": [
    {
     "data": {
      "text/html": [
       "<div>\n",
       "<style scoped>\n",
       "    .dataframe tbody tr th:only-of-type {\n",
       "        vertical-align: middle;\n",
       "    }\n",
       "\n",
       "    .dataframe tbody tr th {\n",
       "        vertical-align: top;\n",
       "    }\n",
       "\n",
       "    .dataframe thead th {\n",
       "        text-align: right;\n",
       "    }\n",
       "</style>\n",
       "<table border=\"1\" class=\"dataframe\">\n",
       "  <thead>\n",
       "    <tr style=\"text-align: right;\">\n",
       "      <th></th>\n",
       "      <th>index</th>\n",
       "      <th>temperature</th>\n",
       "      <th>gender</th>\n",
       "      <th>heart_rate</th>\n",
       "      <th>i</th>\n",
       "      <th>%tile</th>\n",
       "      <th>z_theo</th>\n",
       "      <th>z_sample</th>\n",
       "    </tr>\n",
       "  </thead>\n",
       "  <tbody>\n",
       "    <tr>\n",
       "      <th>0</th>\n",
       "      <td>125</td>\n",
       "      <td>96.3</td>\n",
       "      <td>M</td>\n",
       "      <td>70.0</td>\n",
       "      <td>1</td>\n",
       "      <td>0.003846</td>\n",
       "      <td>-2.665285</td>\n",
       "      <td>-2.658586</td>\n",
       "    </tr>\n",
       "    <tr>\n",
       "      <th>1</th>\n",
       "      <td>39</td>\n",
       "      <td>96.4</td>\n",
       "      <td>F</td>\n",
       "      <td>69.0</td>\n",
       "      <td>2</td>\n",
       "      <td>0.011538</td>\n",
       "      <td>-2.272159</td>\n",
       "      <td>-2.522195</td>\n",
       "    </tr>\n",
       "    <tr>\n",
       "      <th>2</th>\n",
       "      <td>11</td>\n",
       "      <td>96.7</td>\n",
       "      <td>F</td>\n",
       "      <td>62.0</td>\n",
       "      <td>3</td>\n",
       "      <td>0.019231</td>\n",
       "      <td>-2.069902</td>\n",
       "      <td>-2.113020</td>\n",
       "    </tr>\n",
       "    <tr>\n",
       "      <th>3</th>\n",
       "      <td>105</td>\n",
       "      <td>96.7</td>\n",
       "      <td>M</td>\n",
       "      <td>71.0</td>\n",
       "      <td>4</td>\n",
       "      <td>0.026923</td>\n",
       "      <td>-1.928072</td>\n",
       "      <td>-2.113020</td>\n",
       "    </tr>\n",
       "    <tr>\n",
       "      <th>4</th>\n",
       "      <td>95</td>\n",
       "      <td>96.8</td>\n",
       "      <td>F</td>\n",
       "      <td>75.0</td>\n",
       "      <td>5</td>\n",
       "      <td>0.034615</td>\n",
       "      <td>-1.816911</td>\n",
       "      <td>-1.976629</td>\n",
       "    </tr>\n",
       "  </tbody>\n",
       "</table>\n",
       "</div>"
      ],
      "text/plain": [
       "   index  temperature gender  heart_rate  i     %tile    z_theo  z_sample\n",
       "0    125         96.3      M        70.0  1  0.003846 -2.665285 -2.658586\n",
       "1     39         96.4      F        69.0  2  0.011538 -2.272159 -2.522195\n",
       "2     11         96.7      F        62.0  3  0.019231 -2.069902 -2.113020\n",
       "3    105         96.7      M        71.0  4  0.026923 -1.928072 -2.113020\n",
       "4     95         96.8      F        75.0  5  0.034615 -1.816911 -1.976629"
      ]
     },
     "execution_count": 12,
     "metadata": {},
     "output_type": "execute_result"
    }
   ],
   "source": [
    "df_QQ = df.copy()\n",
    "df_QQ_sorted = df_QQ.sort_values('temperature')\n",
    "df_QQ_sorted_reind = df_QQ_sorted.reset_index()\n",
    "df_QQ_sorted_reind['i']=df_QQ_sorted_reind.index.values + 1\n",
    "df_QQ_sorted_reind['%tile']= (df_QQ_sorted_reind['i']-0.5)/130\n",
    "df_QQ_sorted_reind['z_theo']= st.norm.ppf(df_QQ_sorted_reind['%tile'])\n",
    "df_QQ_sorted_reind['z_sample'] = (df_QQ_sorted_reind.temperature-t_mean)/t_std\n",
    "df_QQ_sorted_reind.head(5)"
   ]
  },
  {
   "cell_type": "code",
   "execution_count": 13,
   "metadata": {},
   "outputs": [
    {
     "data": {
      "image/png": "[encoded data removed]",
      "text/plain": [
       "<Figure size 432x288 with 1 Axes>"
      ]
     },
     "metadata": {},
     "output_type": "display_data"
    }
   ],
   "source": [
    "plt.plot(df_QQ_sorted_reind['z_theo'],df_QQ_sorted_reind['z_sample'],marker='.',linestyle='None')\n",
    "plt.plot([-3.5,3.5],[-3.5,3.5])\n",
    "plt.xlim(-3.5,3.5)\n",
    "plt.ylim(-3.5,3.5)\n",
    "plt.xlabel('Theoretical Quantiles')\n",
    "plt.ylabel('Sample Quantiles')\n",
    "plt.show()"
   ]
  },
  {
   "cell_type": "code",
   "execution_count": 14,
   "metadata": {},
   "outputs": [
    {
     "data": {
      "image/png": "[encoded data removed]",
      "text/plain": [
       "<Figure size 432x288 with 1 Axes>"
      ]
     },
     "execution_count": 14,
     "metadata": {},
     "output_type": "execute_result"
    },
    {
     "data": {
      "image/png": "[encoded data removed]",
      "text/plain": [
       "<Figure size 432x288 with 1 Axes>"
      ]
     },
     "metadata": {},
     "output_type": "display_data"
    }
   ],
   "source": [
    "z = (df['temperature'] - t_mean) / t_std\n",
    "sm.qqplot(z, line='45', a=0.5)"
   ]
  },
  {
   "cell_type": "code",
   "execution_count": 15,
   "metadata": {},
   "outputs": [
    {
     "data": {
      "text/plain": [
       "NormaltestResult(statistic=2.703801433319203, pvalue=0.2587479863488254)"
      ]
     },
     "execution_count": 15,
     "metadata": {},
     "output_type": "execute_result"
    }
   ],
   "source": [
    "st.mstats.normaltest(df['temperature'])"
   ]
  },
  {
   "cell_type": "markdown",
   "metadata": {},
   "source": [
    "### 2. Is the sample size large? Are the observations independent?\n",
    "**Answer:** \n",
    "\n",
    "- Yes, sample size is large for central limit theorem to hold. n = 130 > 30.\n",
    "\n",
    "- Yes the observations were independednt. Based on the information obtained, (148) participants were healthy men and women aged 18 through 40 years participated, which is <<<10% of the population. Also assumed that the participants were randomly selected.\n",
    "< https://www.ncbi.nlm.nih.gov/pubmed/1302471 >"
   ]
  },
  {
   "cell_type": "markdown",
   "metadata": {},
   "source": [
    "### 3. Is the true population mean really 98.6 degrees F?\n",
    "- First, try a bootstrap hypothesis test.\n",
    "- Now, let's try frequentist statistical testing. Would you use a one-sample or two-sample test? Why?\n",
    "- In this situation, is it appropriate to use the  t  or  z  statistic?\n",
    "- Now try using the other test. How is the result be different? Why?\n",
    "\n",
    "**Answer:** \n",
    "\n",
    "- The p-value is 0.0, < 0.05. Reject null hypothesis.\n",
    "\n",
    "- A z-score of -5.455 equals p-value of 0.0, < 0.05. Reject null hypothesis. One sample is used because we only have one sample data.\n",
    "\n",
    "- It is more appropriate to use z statistic because the sample data size is 130, which is > 30.\n",
    "\n",
    "- A t-score of -5.434 / one-tail / degfree = 130-1=129 gives p-value of 0.00001, practically 0 and < 0.05. Reject null hypothesis.\n"
   ]
  },
  {
   "cell_type": "code",
   "execution_count": 16,
   "metadata": {},
   "outputs": [
    {
     "name": "stdout",
     "output_type": "stream",
     "text": [
      "The p-value is 0.0, < 0.05. Reject null hypothesis.\n"
     ]
    }
   ],
   "source": [
    "# Bootstrap hypothesis test\n",
    "# Null hypothesis H_o: true population mean is 98.6\n",
    "# Alternative hypothesis H_a: true population mean is not 98.6\n",
    "# Significance level = 0.05\n",
    "\n",
    "# t_mean = mean of sample data = 98.249\n",
    "# h_mean = assumed mean based on hypothesis\n",
    "\n",
    "h_mean = 98.6 \n",
    "mean_shift = h_mean - t_mean\n",
    "temperature_shifted = df.temperature + mean_shift \n",
    "\n",
    "def draw_bs_reps(data, func, size=1):\n",
    "    \"\"\"Draw bootstrap replicates.\"\"\"\n",
    "\n",
    "    # Initialize array of replicates: bs_replicates\n",
    "    bs_replicates = np.empty(size)\n",
    "\n",
    "    # Generate replicates\n",
    "    for i in range(size):\n",
    "        bs_replicates[i] = bootstrap_replicate_1d(data,func)\n",
    "\n",
    "    return bs_replicates\n",
    "\n",
    "def bootstrap_replicate_1d(data, func):\n",
    "    return func(np.random.choice(data, size=len(data)))\n",
    "\n",
    "# Take 10,000 bootstrap replicates of the mean of the shifted temperature data: bs_replicates\n",
    "bs_replicates_shifted = draw_bs_reps(temperature_shifted,np.mean,10000)\n",
    "\n",
    "# Compute p-value: p\n",
    "p = np.sum(bs_replicates_shifted <= t_mean) / len(bs_replicates_shifted)\n",
    "\n",
    "print(f'The p-value is {p}, < 0.05. Reject null hypothesis.')"
   ]
  },
  {
   "cell_type": "code",
   "execution_count": 17,
   "metadata": {},
   "outputs": [
    {
     "name": "stdout",
     "output_type": "stream",
     "text": [
      "Z-score of -5.454823292364079 equals p-value of 0.0, < 0.05. Reject null hypothesis.\n"
     ]
    }
   ],
   "source": [
    "# Frequentist hypothesis test\n",
    "# Null hypothesis H_o: true population mean is 98.6\n",
    "# Alternative hypothesis H_a: true population mean is not 98.6\n",
    "# Significance level = 0.05\n",
    "\n",
    "z = (t_mean - h_mean) / (t_std / (len(df.temperature))**0.5)\n",
    "\n",
    "print(f'Z-score of {z} equals p-value of 0.0, < 0.05. Reject null hypothesis.')"
   ]
  },
  {
   "cell_type": "code",
   "execution_count": 18,
   "metadata": {},
   "outputs": [
    {
     "name": "stdout",
     "output_type": "stream",
     "text": [
      "t-score of -5.433802700523669 equals p-value of 0.00001, < 0.05. Reject null hypothesis.\n"
     ]
    }
   ],
   "source": [
    "t = (t_mean - h_mean) / (t_std / (len(df.temperature)-1)**0.5)\n",
    "print(f't-score of {t} equals p-value of 0.00001, < 0.05. Reject null hypothesis.')"
   ]
  },
  {
   "cell_type": "markdown",
   "metadata": {},
   "source": [
    "### 4. Draw a small sample of size 10 from the data and repeat both frequentist tests.\n",
    "\n",
    "- Which one is the correct one to use?\n",
    "\n",
    "- What do you notice? What does this tell you about the difference in application of the  t  and  z  statistic?\n",
    "\n",
    "**Answer:** \n",
    "\n",
    "- t statistic should be used because the same size is 10, which is < 30.\n",
    "\n",
    "- t score leads to higher p-value. At a draw of 10, many times the random draw leads to p-value of >0.05 for both statistics. As the sample size increases, less random draws have p-value >0.05 for both z and t statistics."
   ]
  },
  {
   "cell_type": "code",
   "execution_count": 19,
   "metadata": {},
   "outputs": [
    {
     "name": "stdout",
     "output_type": "stream",
     "text": [
      "z-score of -0.905746812858548 equals p-value of 0.18253493924871877\n",
      "t-score of -0.8592668736213888 equals p-value of 0.20624725079698858\n"
     ]
    }
   ],
   "source": [
    "# Frequentist hypothesis test\n",
    "# Null hypothesis H_o: true population mean is 98.6\n",
    "# Alternative hypothesis H_a: true population mean is not 98.6\n",
    "# Significance level = 0.05\n",
    "\n",
    "sample_10 = []\n",
    "\n",
    "for i in range(10):\n",
    "    sample_10.append(np.random.choice(df.temperature))\n",
    "\n",
    "t_10_mean = np.mean(sample_10)\n",
    "t_10_std = np.std(sample_10)\n",
    "\n",
    "z_10 = (t_10_mean - h_mean) / (t_std / (len(sample_10))**0.5)\n",
    "\n",
    "t_10 = (t_10_mean - h_mean) / (t_std / (len(sample_10)-1)**0.5)\n",
    "\n",
    "\n",
    "p_val_z_10 = 1- st.norm.sf(z_10)\n",
    "\n",
    "p_val_t_10 = 1- st.t.sf(t_10, len(sample_10)-1)\n",
    "\n",
    "print(f'z-score of {z_10} equals p-value of {p_val_z_10}')\n",
    "\n",
    "print(f't-score of {t_10} equals p-value of {p_val_t_10}')"
   ]
  },
  {
   "cell_type": "markdown",
   "metadata": {},
   "source": [
    "### 5. At what temperature should we consider someone's temperature to be \"abnormal\"?\n",
    "\n",
    "- As in the previous example, try calculating everything using the boostrap approach, as well as the frequentist approach.\n",
    "\n",
    "- Start by computing the margin of error and confidence interval. When calculating the confidence interval, keep in mind that you should use the appropriate formula for one draw, and not N draws.\n",
    "\n",
    "**Answer:** \n",
    "\n",
    "- The two approaches yield similar results."
   ]
  },
  {
   "cell_type": "code",
   "execution_count": 20,
   "metadata": {},
   "outputs": [
    {
     "name": "stdout",
     "output_type": "stream",
     "text": [
      " Body temperature is \"abnormal\" if it is outside this range [96.7 99.5]\n"
     ]
    }
   ],
   "source": [
    "# Using Bootstrap approach\n",
    "# Assuming \"normal\" is within 95% confidence interval and \"abnormal\" is outside confidence interval of the mean temperature\n",
    "\n",
    "# Take 10,000 bootstrap samples of temperature data:\n",
    "\n",
    "bs_sample = []\n",
    "\n",
    "for i in range(10000):\n",
    "    bs_sample.append(np.random.choice(df.temperature))\n",
    "\n",
    "conf_interval = np.percentile(bs_sample,[2.5,97.5])\n",
    "\n",
    "print(f' Body temperature is \"abnormal\" if it is outside this range {conf_interval}')"
   ]
  },
  {
   "cell_type": "code",
   "execution_count": 21,
   "metadata": {},
   "outputs": [
    {
     "name": "stdout",
     "output_type": "stream",
     "text": [
      " Body temperature is \"abnormal\" if it is outside this range [96.8 99.7]\n"
     ]
    }
   ],
   "source": [
    "# Using Frequentist approach --- z statistic\n",
    "\n",
    "t_bs_mean = np.mean(bs_sample)\n",
    "t_bs_std = np.std(bs_sample)\n",
    "\n",
    "z_score_2p5 = st.norm.ppf(0.025)\n",
    "z_score_97p5 = st.norm.ppf(0.975)\n",
    "\n",
    "x_z_2p5 = z_score_2p5 * (t_bs_std ) + t_bs_mean\n",
    "x_z_97p5 = z_score_97p5 * (t_bs_std ) + t_bs_mean\n",
    "\n",
    "print(f' Body temperature is \"abnormal\" if it is outside this range [{round(x_z_2p5,1)} {round(x_z_97p5,1)}]')"
   ]
  },
  {
   "cell_type": "markdown",
   "metadata": {},
   "source": [
    "### 6. Is there a significant difference between males and females in normal temperature?\n",
    "\n",
    "- What testing approach did you use and why?\n",
    "\n",
    "- Write a story with your conclusion in the context of the original problem.\n",
    "\n",
    "**Answer:** \n",
    "\n",
    "- Boostrap approach was used.\n",
    "\n",
    "- There is significant difference between male and female mean body temperature. Rejecting the null hypothesis suggests that male and female do not have the same mean temperature."
   ]
  },
  {
   "cell_type": "code",
   "execution_count": 25,
   "metadata": {},
   "outputs": [
    {
     "name": "stdout",
     "output_type": "stream",
     "text": [
      "The sample mean of the body temperature for male is 98.105 and for female is 98.394\n"
     ]
    }
   ],
   "source": [
    "temp_male = df.temperature[df.gender=='M'].values\n",
    "temp_female = df.temperature[df.gender=='F'].values\n",
    "t_male_mean = np.mean(temp_male)\n",
    "t_female_mean = np.mean(temp_female)\n",
    "\n",
    "print(f'The sample mean of the body temperature for male is {round(t_male_mean,3)} and for female is {round(t_female_mean,3)}')"
   ]
  },
  {
   "cell_type": "code",
   "execution_count": 73,
   "metadata": {},
   "outputs": [
    {
     "name": "stdout",
     "output_type": "stream",
     "text": [
      "The p-value is 0.0109, < 0.05. Reject null hypothesis.\n"
     ]
    }
   ],
   "source": [
    "# Bootstrap hypothesis test\n",
    "# Null hypothesis H_o: male and female have the same mean temperature\n",
    "# Alternative hypothesis H_a: male and female DO NOT have the same mean temperature\n",
    "# Significance level = 0.05\n",
    "\n",
    "# t_mean = mean of sample data = 98.249\n",
    "# t_male_mean = mean of sample data of male = 98.105\n",
    "# t_female_mean = mean of sample data of female = 98.394\n",
    "\n",
    "t_male_mean_shifted = temp_male + (t_mean - t_male_mean)\n",
    "t_female_mean_shifted = temp_female + (t_mean - t_female_mean)\n",
    "\n",
    "# Take 10,000 bootstrap replicates of the mean of the shifted temperature data\n",
    "bs_replicates_shifted_male = draw_bs_reps(t_male_mean_shifted,np.mean,10000)\n",
    "bs_replicates_shifted_female = draw_bs_reps(t_female_mean_shifted,np.mean,10000)\n",
    "\n",
    "# Get replicates of difference of means\n",
    "bs_replicates = bs_replicates_shifted_female - bs_replicates_shifted_male\n",
    "\n",
    "# Compute and print p-value: p\n",
    "p = np.sum(bs_replicates > (t_female_mean-t_male_mean)) / len(bs_replicates)\n",
    "\n",
    "print(f'The p-value is {p}, < 0.05. Reject null hypothesis.')"
   ]
  },
  {
   "cell_type": "code",
   "execution_count": null,
   "metadata": {},
   "outputs": [],
   "source": []
  },
  {
   "cell_type": "code",
   "execution_count": null,
   "metadata": {},
   "outputs": [],
   "source": []
  },
  {
   "cell_type": "code",
   "execution_count": null,
   "metadata": {},
   "outputs": [],
   "source": []
  },
  {
   "cell_type": "code",
   "execution_count": null,
   "metadata": {},
   "outputs": [],
   "source": []
  }
 ],
 "metadata": {
  "kernelspec": {
   "display_name": "Python 3",
   "language": "python",
   "name": "python3"
  },
  "language_info": {
   "codemirror_mode": {
    "name": "ipython",
    "version": 3
   },
   "file_extension": ".py",
   "mimetype": "text/x-python",
   "name": "python",
   "nbconvert_exporter": "python",
   "pygments_lexer": "ipython3",
   "version": "3.6.5"
  }
 },
 "nbformat": 4,
 "nbformat_minor": 1
}
